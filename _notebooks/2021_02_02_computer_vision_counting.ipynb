{
  "nbformat": 4,
  "nbformat_minor": 0,
  "metadata": {
    "colab": {
      "name": "2021-02-02_computer_vision_counting.ipynb",
      "provenance": [],
      "collapsed_sections": [],
      "authorship_tag": "ABX9TyMew7J9bwXDoD/ijBgBR+z5",
      "include_colab_link": true
    },
    "kernelspec": {
      "name": "python3",
      "display_name": "Python 3"
    }
  },
  "cells": [
    {
      "cell_type": "markdown",
      "metadata": {
        "id": "view-in-github",
        "colab_type": "text"
      },
      "source": [
        "<a href=\"https://colab.research.google.com/github/patrick-hanley/thought_experiments/blob/master/_notebooks/2021_02_02_computer_vision_counting.ipynb\" target=\"_parent\"><img src=\"https://colab.research.google.com/assets/colab-badge.svg\" alt=\"Open In Colab\"/></a>"
      ]
    },
    {
      "cell_type": "markdown",
      "metadata": {
        "id": "k-o57x1OKnvO"
      },
      "source": [
        "# \"Using OpenCV to dynamically count all the points in a dominoes game\"\n",
        "> \"It all started with a bet\"\n",
        "\n",
        "\n",
        "- toc: true\n",
        "- branch: master\n",
        "- badges: true\n",
        "- comments: true\n",
        "- categories: [embeddings, venture capital, shallow neural nets]\n",
        "- image: images/image.png\n",
        "- hide: false\n",
        "- search_exclude: true\n",
        "- metadata_key1: metadata_value1\n",
        "- metadata_key2: metadata_value2"
      ]
    },
    {
      "cell_type": "markdown",
      "metadata": {
        "id": "M9rkKUCaLBIk"
      },
      "source": [
        "# I was bet that I could write a program to count all the points left on the table during a dominoes game.\n",
        "\n",
        "## It wasn't just a bet; it was a bet between brothers.  This just meant I wasn't going to lose."
      ]
    },
    {
      "cell_type": "markdown",
      "metadata": {
        "id": "ZOwfsnqNLdC8"
      },
      "source": [
        "# The Problem"
      ]
    },
    {
      "cell_type": "markdown",
      "metadata": {
        "id": "-pr1csY-Rt-6"
      },
      "source": [
        "## At the end of each domino game, the loser has to count all the points left on the table. (Not impossible, but an annoyance when it gets into the hundreds)"
      ]
    },
    {
      "cell_type": "markdown",
      "metadata": {
        "id": "vNteHjMMSJ0E"
      },
      "source": [
        "# The Bet"
      ]
    },
    {
      "cell_type": "markdown",
      "metadata": {
        "id": "SO4OwdvfSL4U"
      },
      "source": [
        "## I bet you couldn't create an app to take a picture and just tell you all the points."
      ]
    },
    {
      "cell_type": "markdown",
      "metadata": {
        "id": "kRr49vQmXAMe"
      },
      "source": [
        "\n",
        "![](images/domino_vids/screen_shot_domino.png \"\")\n"
      ]
    },
    {
      "cell_type": "markdown",
      "metadata": {
        "id": "9iaRc4PGSXam"
      },
      "source": [
        "#The Solution"
      ]
    },
    {
      "cell_type": "markdown",
      "metadata": {
        "id": "Ii5T98rnSbMW"
      },
      "source": [
        "##Use [openCV](https://opencv.org/) for video processing\n",
        "\n",
        "\n",
        "1.   Identify white rectangles with a specific ratio and area.\n",
        "2.   Mask out each rectangle as a region of interest (ROI)\n",
        "3.   Only process and analyze pixels within the ROI to improve frame rate\n",
        "4.   Blur the image within the ROI\n",
        "5.   Count the number of circles detected with [HoughCircles](https://docs.opencv.org/master/da/d53/tutorial_py_houghcircles.html)\n",
        "\n",
        "\n",
        "\n",
        "\n",
        "\n"
      ]
    },
    {
      "cell_type": "markdown",
      "metadata": {
        "id": "KXO9ofNAcLly"
      },
      "source": [
        "#I won."
      ]
    },
    {
      "cell_type": "markdown",
      "metadata": {
        "id": "_F69CVAjcPP3"
      },
      "source": [
        "![](images/domino_vids/Feb-13-2021 22-27-17_dominoes.gif \"sample gif\")"
      ]
    }
  ]
}